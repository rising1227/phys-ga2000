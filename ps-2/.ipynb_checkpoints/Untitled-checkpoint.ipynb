{
 "cells": [
  {
   "cell_type": "code",
   "execution_count": 2,
   "id": "a851eb77-2cd3-42e1-a10c-efaab1e73b56",
   "metadata": {},
   "outputs": [],
   "source": [
    "import numpy as np\n",
    "import matplotlib.pyplot as plt\n",
    "import struct"
   ]
  },
  {
   "cell_type": "code",
   "execution_count": 4,
   "id": "d96ebb23-af22-4cd8-910b-e3ab4573862a",
   "metadata": {},
   "outputs": [],
   "source": [
    "def get_bits(number):\n",
    "    \"\"\"For a NumPy quantity, return bit representation\n",
    "    \n",
    "    Inputs:\n",
    "    ------\n",
    "    number : NumPy value\n",
    "        value to convert into list of bits\n",
    "        \n",
    "    Returns:\n",
    "    -------\n",
    "    bits : list\n",
    "       list of 0 and 1 values, highest to lowest significance\n",
    "    \"\"\"\n",
    "    bytes = number.tobytes()\n",
    "    bits = []\n",
    "    for byte in bytes:\n",
    "        bits = bits + np.flip(np.unpackbits(np.uint8(byte)), np.uint8(0)).tolist()\n",
    "    return list(reversed(bits))"
   ]
  },
  {
   "cell_type": "code",
   "execution_count": 5,
   "id": "a315a910-745d-4abb-85f6-1275b27e798a",
   "metadata": {},
   "outputs": [
    {
     "name": "stdout",
     "output_type": "stream",
     "text": [
      "Exponent of 100.98763275146484: [1, 0, 0, 0, 0, 1, 0, 1] --> 6\n",
      "Mantissa of 100.98763275146484: [1, 0, 0, 1, 0, 0, 1, 1, 1, 1, 1, 1, 0, 0, 1, 1, 0, 1, 0, 1, 0, 1, 1]\n",
      "Difference between np.float32(100.98763) and 100.98763: 2.7514648479609605e-06\n"
     ]
    }
   ],
   "source": [
    "value_big = np.float32(100.98763)\n",
    "bitlist = get_bits(np.float32(value_big))\n",
    "e10 = np.array([ ee * 2**(7-indx) for indx, ee in zip(range(8), bitlist[1:9])], dtype=np.int32).sum() - 127\n",
    "print(\"Exponent of {value}: {exponent} --> {e10}\".format(value=value_big, exponent=bitlist[1:9], e10=e10))\n",
    "print(\"Mantissa of {value}: {mantissa}\".format(value=value_big, mantissa=bitlist[9:]))\n",
    "print(\"Difference between np.float32(100.98763) and 100.98763: {value}\".format(value=value_big - np.float64(100.98763), mantissa=bitlist[9:]))"
   ]
  },
  {
   "cell_type": "code",
   "execution_count": 6,
   "id": "2c73d453-1734-4e4e-9115-8cea9223e1d9",
   "metadata": {},
   "outputs": [],
   "source": [
    "def find_mininum_number_32():\n",
    "    a = np.float32(1.0)\n",
    "    incr = np.float32(1.0)\n",
    "    while(1):\n",
    "        if a + incr != np.float32(1.0):\n",
    "            incr = incr/2\n",
    "        else:\n",
    "            print(incr)\n",
    "            break\n",
    "            \n",
    "def find_mininum_number_64():\n",
    "    a = np.float64(1.0)\n",
    "    incr = np.float64(1.0)\n",
    "    while(1):\n",
    "        if a + incr != np.float64(1.0):\n",
    "            incr = incr/2\n",
    "        else:\n",
    "            print(incr)\n",
    "            break\n"
   ]
  },
  {
   "cell_type": "code",
   "execution_count": 7,
   "id": "49400407-3803-47de-97e8-2073ea72d772",
   "metadata": {},
   "outputs": [
    {
     "name": "stdout",
     "output_type": "stream",
     "text": [
      "5.9604645e-08\n",
      "1.1102230246251565e-16\n"
     ]
    }
   ],
   "source": [
    "find_mininum_number_32()\n",
    "find_mininum_number_64()"
   ]
  },
  {
   "cell_type": "code",
   "execution_count": 8,
   "id": "e338531a-db6d-4b20-8493-1154289ea481",
   "metadata": {},
   "outputs": [
    {
     "data": {
      "text/plain": [
       "np.float32(3.4028235e+38)"
      ]
     },
     "execution_count": 8,
     "metadata": {},
     "output_type": "execute_result"
    }
   ],
   "source": [
    "np.finfo(np.float32).tiny\n",
    "np.finfo(np.float32).max"
   ]
  },
  {
   "cell_type": "code",
   "execution_count": 9,
   "id": "eec50159-3522-442f-9ba3-bd06eaa5b165",
   "metadata": {},
   "outputs": [
    {
     "name": "stdout",
     "output_type": "stream",
     "text": [
      "--- 11.92050814628601 seconds ---\n",
      "-1.7418198158396654\n"
     ]
    }
   ],
   "source": [
    "import time\n",
    "start_time = time.time()\n",
    "%timeit\n",
    "M = 0\n",
    "L = 100\n",
    "List = np.arange(-L,L+1)\n",
    "for i in List:\n",
    "    for j in List:\n",
    "        for k in List:\n",
    "            if i == 0 and j == 0 and k ==0:\n",
    "                continue\n",
    "            M = M + (-1)**(np.abs(i+j+k))/np.sqrt(i**2+j**2+k**2)\n",
    "print(\"--- %s seconds ---\" % (time.time() - start_time))\n",
    "print(M)"
   ]
  },
  {
   "cell_type": "code",
   "execution_count": null,
   "id": "620d9595-a777-4e25-a850-59fe2c76b336",
   "metadata": {},
   "outputs": [],
   "source": [
    "start_time2 = time.time()\n",
    "%timeit\n",
    "M = 0\n",
    "L = 600\n",
    "A = np.zeros([2*L+1,2*L+1,2*L+1])\n",
    "x = np.arange(-L,L+1)**2\n",
    "res = np.sqrt(x.reshape([1,1,2*L+1]) + x.reshape([1,2*L+1,1]) + x.reshape([2*L+1,1,1]))\n",
    "res2 = 1-((np.arange(-L,L+1).reshape([1,1,2*L+1]) + np.arange(-L,L+1).reshape([1,2*L+1,1]) + np.arange(-L,L+1).reshape([2*L+1,1,1])) %2)*2\n",
    "M = res * res2\n",
    "M[L,L,L] = 100000000\n",
    "M = 1/M\n",
    "\n",
    "\n",
    "print(\"--- %s seconds ---\" % (time.time() - start_time2))\n",
    "print(M.sum())"
   ]
  },
  {
   "cell_type": "code",
   "execution_count": null,
   "id": "6d3cf504-cb54-4a0d-8b79-87c464d10727",
   "metadata": {},
   "outputs": [],
   "source": [
    "np.sqrt(x.reshape([1,1,21]) + x.reshape([1,21,1]) + x.reshape([21,1,1]))"
   ]
  },
  {
   "cell_type": "code",
   "execution_count": null,
   "id": "89796fb5-bed0-44fa-9de1-108016f50630",
   "metadata": {},
   "outputs": [],
   "source": [
    "L=10"
   ]
  },
  {
   "cell_type": "code",
   "execution_count": null,
   "id": "c7c9e776-db53-4599-971f-901bc7597922",
   "metadata": {},
   "outputs": [],
   "source": [
    "1-((np.arange(-L,L+1).reshape([1,1,2*L+1]) + np.arange(-L,L+1).reshape([1,2*L+1,1]) + np.arange(-L,L+1).reshape([2*L+1,1,1])) %2)*2"
   ]
  },
  {
   "cell_type": "code",
   "execution_count": null,
   "id": "d562a55a-077f-4b4b-99c6-f0c41502cd6c",
   "metadata": {},
   "outputs": [],
   "source": [
    "np.arange(-L,L+1).reshape([1,1,2*L+1])"
   ]
  },
  {
   "cell_type": "code",
   "execution_count": null,
   "id": "c8581133-50eb-48a9-b6c6-db845aa4d831",
   "metadata": {},
   "outputs": [],
   "source": [
    "4%3"
   ]
  },
  {
   "cell_type": "code",
   "execution_count": 227,
   "id": "857d7e8f-d8ff-4948-a887-18584851bcc3",
   "metadata": {},
   "outputs": [
    {
     "data": {
      "text/plain": [
       "array([[ 5,  6],\n",
       "       [10, 12],\n",
       "       [15, 18],\n",
       "       [20, 24]])"
      ]
     },
     "execution_count": 227,
     "metadata": {},
     "output_type": "execute_result"
    }
   ],
   "source": [
    "np.outer([[1,2],[3,4]],[5,6])"
   ]
  },
  {
   "cell_type": "code",
   "execution_count": 251,
   "id": "9b0adcbd-b47e-40a9-92ba-851fcc6e199a",
   "metadata": {},
   "outputs": [
    {
     "data": {
      "text/plain": [
       "array([0, 1, 2, 3, 4, 5, 6, 7, 8, 9])"
      ]
     },
     "execution_count": 251,
     "metadata": {},
     "output_type": "execute_result"
    }
   ],
   "source": [
    "np.arange(10)"
   ]
  },
  {
   "cell_type": "code",
   "execution_count": 252,
   "id": "9d7878ad-0035-4c46-b108-826a16d94508",
   "metadata": {},
   "outputs": [
    {
     "ename": "IndexError",
     "evalue": "index 10 is out of bounds for axis 0 with size 10",
     "output_type": "error",
     "traceback": [
      "\u001b[0;31m---------------------------------------------------------------------------\u001b[0m",
      "\u001b[0;31mIndexError\u001b[0m                                Traceback (most recent call last)",
      "Cell \u001b[0;32mIn[252], line 1\u001b[0m\n\u001b[0;32m----> 1\u001b[0m \u001b[43masd\u001b[49m\u001b[43m[\u001b[49m\u001b[38;5;241;43m10\u001b[39;49m\u001b[43m]\u001b[49m\n",
      "\u001b[0;31mIndexError\u001b[0m: index 10 is out of bounds for axis 0 with size 10"
     ]
    }
   ],
   "source": [
    "asd[10]"
   ]
  },
  {
   "cell_type": "code",
   "execution_count": 3,
   "id": "cd1cea42-e3a4-409e-bb79-b46e696cf0e4",
   "metadata": {},
   "outputs": [
    {
     "ename": "NameError",
     "evalue": "name 'time' is not defined",
     "output_type": "error",
     "traceback": [
      "\u001b[0;31m---------------------------------------------------------------------------\u001b[0m",
      "\u001b[0;31mNameError\u001b[0m                                 Traceback (most recent call last)",
      "Cell \u001b[0;32mIn[3], line 10\u001b[0m\n\u001b[1;32m      8\u001b[0m                 \u001b[38;5;28;01mcontinue\u001b[39;00m\n\u001b[1;32m      9\u001b[0m             M \u001b[38;5;241m=\u001b[39m M \u001b[38;5;241m+\u001b[39m (\u001b[38;5;241m-\u001b[39m\u001b[38;5;241m1\u001b[39m)\u001b[38;5;241m*\u001b[39m\u001b[38;5;241m*\u001b[39m(np\u001b[38;5;241m.\u001b[39mabs(i\u001b[38;5;241m+\u001b[39mj\u001b[38;5;241m+\u001b[39mk))\u001b[38;5;241m/\u001b[39mnp\u001b[38;5;241m.\u001b[39msqrt(i\u001b[38;5;241m*\u001b[39m\u001b[38;5;241m*\u001b[39m\u001b[38;5;241m2\u001b[39m\u001b[38;5;241m+\u001b[39mj\u001b[38;5;241m*\u001b[39m\u001b[38;5;241m*\u001b[39m\u001b[38;5;241m2\u001b[39m\u001b[38;5;241m+\u001b[39mk\u001b[38;5;241m*\u001b[39m\u001b[38;5;241m*\u001b[39m\u001b[38;5;241m2\u001b[39m)\n\u001b[0;32m---> 10\u001b[0m \u001b[38;5;28mprint\u001b[39m(\u001b[38;5;124m\"\u001b[39m\u001b[38;5;124m--- method 1 cost \u001b[39m\u001b[38;5;132;01m%s\u001b[39;00m\u001b[38;5;124m seconds ---\u001b[39m\u001b[38;5;124m\"\u001b[39m \u001b[38;5;241m%\u001b[39m (\u001b[43mtime\u001b[49m\u001b[38;5;241m.\u001b[39mtime() \u001b[38;5;241m-\u001b[39m start_time))\n\u001b[1;32m     11\u001b[0m \u001b[38;5;28mprint\u001b[39m(\u001b[38;5;124m\"\u001b[39m\u001b[38;5;124mM number of L = \u001b[39m\u001b[38;5;132;01m{lvalue}\u001b[39;00m\u001b[38;5;124m system is: \u001b[39m\u001b[38;5;132;01m{mvalue}\u001b[39;00m\u001b[38;5;124m\"\u001b[39m\u001b[38;5;241m.\u001b[39mformat(lvalue\u001b[38;5;241m=\u001b[39mL, mvalue\u001b[38;5;241m=\u001b[39mM))\n",
      "\u001b[0;31mNameError\u001b[0m: name 'time' is not defined"
     ]
    }
   ],
   "source": [
    "M = 0\n",
    "L = 100\n",
    "List = np.arange(-L,L+1)\n",
    "for i in List:\n",
    "    for j in List:\n",
    "        for k in List:\n",
    "            if i == 0 and j == 0 and k ==0:\n",
    "                continue\n",
    "            M = M + (-1)**(np.abs(i+j+k))/np.sqrt(i**2+j**2+k**2)\n",
    "print(\"--- method 1 cost %s seconds ---\" % (time.time() - start_time))\n",
    "print(\"M number of L = {lvalue} system is: {mvalue}\".format(lvalue=L, mvalue=M))"
   ]
  },
  {
   "cell_type": "code",
   "execution_count": 93,
   "id": "cfb93477-6070-4b9d-824c-34f5ab0add2a",
   "metadata": {},
   "outputs": [],
   "source": [
    "N = 100"
   ]
  },
  {
   "cell_type": "code",
   "execution_count": 107,
   "id": "f95124cd-f048-4c04-ad5c-8dc24f19289b",
   "metadata": {},
   "outputs": [],
   "source": [
    "real2 = np.arange(-2,2,4/N)\n",
    "real = np.arange(2,-2,-4/N)\n",
    "complex = 0+1j"
   ]
  },
  {
   "cell_type": "code",
   "execution_count": 100,
   "id": "0e3f1d29-bbf9-47f4-abf8-18be67fdb58f",
   "metadata": {},
   "outputs": [
    {
     "data": {
      "text/plain": [
       "(100,)"
      ]
     },
     "execution_count": 100,
     "metadata": {},
     "output_type": "execute_result"
    }
   ],
   "source": [
    "real.shape"
   ]
  },
  {
   "cell_type": "code",
   "execution_count": 127,
   "id": "392c5bf2-40fd-4862-84f1-c1dc6a2c3b7e",
   "metadata": {},
   "outputs": [],
   "source": [
    "result = real.reshape([N,1])*complex + real2.reshape([1,N])"
   ]
  },
  {
   "cell_type": "code",
   "execution_count": 128,
   "id": "b3cf5f6f-14d3-4114-9ad0-6c1aa1528441",
   "metadata": {},
   "outputs": [],
   "source": [
    "def determine_func(a):\n",
    "    hini = 0\n",
    "    for i in range(100):\n",
    "        hini = hini**2 + a\n",
    "        if np.abs(hini) >= 2:\n",
    "            return False\n",
    "            break\n",
    "    return True\n",
    "        "
   ]
  },
  {
   "cell_type": "code",
   "execution_count": 122,
   "id": "65317510-14c0-47d8-a80a-3b00f7aec3cb",
   "metadata": {},
   "outputs": [
    {
     "ename": "TypeError",
     "evalue": "'complex' object is not subscriptable",
     "output_type": "error",
     "traceback": [
      "\u001b[0;31m---------------------------------------------------------------------------\u001b[0m",
      "\u001b[0;31mTypeError\u001b[0m                                 Traceback (most recent call last)",
      "Cell \u001b[0;32mIn[122], line 1\u001b[0m\n\u001b[0;32m----> 1\u001b[0m np\u001b[38;5;241m.\u001b[39mabs(\u001b[38;5;28;43mcomplex\u001b[39;49m\u001b[43m[\u001b[49m\u001b[38;5;241;43m0\u001b[39;49m\u001b[43m,\u001b[49m\u001b[38;5;241;43m0\u001b[39;49m\u001b[43m]\u001b[49m)\n",
      "\u001b[0;31mTypeError\u001b[0m: 'complex' object is not subscriptable"
     ]
    }
   ],
   "source": [
    "np.abs(complex[0,0])"
   ]
  },
  {
   "cell_type": "code",
   "execution_count": 129,
   "id": "c6733827-45d8-4bc2-b5aa-c9ecc99d1b5b",
   "metadata": {},
   "outputs": [],
   "source": [
    "vectorized_function = np.vectorize(determine_func)"
   ]
  },
  {
   "cell_type": "code",
   "execution_count": 130,
   "id": "a00790b6-33bc-4aca-a1a7-092d04935588",
   "metadata": {},
   "outputs": [],
   "source": [
    "resultfinal = np.vectorize(int)(vectorized_function(result))"
   ]
  },
  {
   "cell_type": "code",
   "execution_count": null,
   "id": "eb172bf6-01b7-4ee6-bc36-448188a5360e",
   "metadata": {},
   "outputs": [],
   "source": []
  },
  {
   "cell_type": "code",
   "execution_count": 131,
   "id": "ec4045e4-e969-44ea-811c-73fb0e0f54de",
   "metadata": {},
   "outputs": [],
   "source": [
    "import matplotlib.pyplot as plt"
   ]
  },
  {
   "cell_type": "code",
   "execution_count": 134,
   "id": "cdbe0c45-5525-411d-921b-ea3311e8db34",
   "metadata": {},
   "outputs": [
    {
     "data": {
      "text/plain": [
       "<matplotlib.image.AxesImage at 0x16d324250>"
      ]
     },
     "execution_count": 134,
     "metadata": {},
     "output_type": "execute_result"
    },
    {
     "data": {
      "image/png": "[encoded data removed]",
      "text/plain": [
       "<Figure size 640x480 with 1 Axes>"
      ]
     },
     "metadata": {},
     "output_type": "display_data"
    }
   ],
   "source": [
    "from matplotlib.ticker import FormatStrFormatter\n",
    "\n",
    "step=10\n",
    "\n",
    "# Set the ticks on the x-axis and y-axis with a step\n",
    "x_ticks = np.arange(0, N, step)\n",
    "y_ticks = np.arange(0, N, step)\n",
    "\n",
    "# Create corresponding labels ranging from -2 to 2, formatted to 2 decimal places\n",
    "x_labels = [f\"{label:.2f}\" for label in np.linspace(-2, 2, N)[::step]]\n",
    "y_labels = [f\"{label:.2f}\" for label in np.linspace(2, -2, N)[::step]]\n",
    "\n",
    "plt.xticks(ticks=x_ticks, labels=x_labels)\n",
    "plt.yticks(ticks=y_ticks, labels=y_labels)\n",
    "plt.xlabel(\"Re(c)\")\n",
    "plt.ylabel(\"Im(c)\")\n",
    "plt.imshow(resultfinal, cmap='gray', interpolation='nearest')"
   ]
  },
  {
   "cell_type": "code",
   "execution_count": 49,
   "id": "cbd6c183-74a7-4f9c-9ebc-28b3f73b4e2c",
   "metadata": {},
   "outputs": [
    {
     "data": {
      "text/plain": [
       "(-2.0, 2.0)"
      ]
     },
     "execution_count": 49,
     "metadata": {},
     "output_type": "execute_result"
    },
    {
     "data": {
      "image/png": "[encoded data removed]",
      "text/plain": [
       "<Figure size 640x480 with 1 Axes>"
      ]
     },
     "metadata": {},
     "output_type": "display_data"
    }
   ],
   "source": []
  },
  {
   "cell_type": "code",
   "execution_count": 78,
   "id": "738d5552-5cfb-43cb-adda-5dffeb5eeb17",
   "metadata": {},
   "outputs": [
    {
     "data": {
      "image/png": "[encoded data removed]",
      "text/plain": [
       "<Figure size 640x480 with 2 Axes>"
      ]
     },
     "metadata": {},
     "output_type": "display_data"
    }
   ],
   "source": [
    "import matplotlib.pyplot as plt\n",
    "import numpy as np\n",
    "from matplotlib.ticker import FormatStrFormatter\n",
    "\n",
    "# Define a large grid\n",
    "N = 100  # Example grid size\n",
    "grid = np.random.randint(0, 2, size=(N, N))\n",
    "\n",
    "# Plot the grid\n",
    "plt.imshow(grid, cmap='gray', interpolation='nearest')\n",
    "plt.colorbar()  # Optional: adds a color bar\n",
    "\n",
    "# Set fewer ticks by specifying the step\n",
    "step = 10  # Adjust this step size to reduce the number of ticks\n",
    "\n",
    "# Set the ticks on the x-axis and y-axis with a step\n",
    "x_ticks = np.arange(0, N, step)\n",
    "y_ticks = np.arange(0, N, step)\n",
    "\n",
    "# Create corresponding labels ranging from -2 to 2\n",
    "x_labels = np.linspace(-2, 2, N)[::step]\n",
    "y_labels = np.linspace(-2, 2, N)[::step]\n",
    "\n",
    "plt.xticks(ticks=x_ticks, labels=x_labels)\n",
    "plt.yticks(ticks=y_ticks, labels=y_labels)\n",
    "\n",
    "# Format the ticks to show fewer decimal places\n",
    "formatter = FormatStrFormatter('%.2f')  # Use 2 decimal places\n",
    "\n",
    "plt.gca().xaxis.set_major_formatter(formatter)\n",
    "plt.gca().yaxis.set_major_formatter(formatter)\n",
    "\n",
    "# Set the axis labels\n",
    "plt.xlabel(\"X Axis Label\")\n",
    "plt.ylabel(\"Y Axis Label\")\n",
    "\n",
    "# Display the plot\n",
    "plt.show()\n",
    "\n"
   ]
  },
  {
   "cell_type": "code",
   "execution_count": null,
   "id": "64058df4-e921-4e38-95e1-c78fbcde164c",
   "metadata": {},
   "outputs": [],
   "source": []
  }
 ],
 "metadata": {
  "kernelspec": {
   "display_name": "Python 3 (ipykernel)",
   "language": "python",
   "name": "python3"
  },
  "language_info": {
   "codemirror_mode": {
    "name": "ipython",
    "version": 3
   },
   "file_extension": ".py",
   "mimetype": "text/x-python",
   "name": "python",
   "nbconvert_exporter": "python",
   "pygments_lexer": "ipython3",
   "version": "3.10.14"
  }
 },
 "nbformat": 4,
 "nbformat_minor": 5
}
